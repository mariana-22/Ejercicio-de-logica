{
  "nbformat": 4,
  "nbformat_minor": 0,
  "metadata": {
    "colab": {
      "provenance": []
    },
    "kernelspec": {
      "name": "python3",
      "display_name": "Python 3"
    },
    "language_info": {
      "name": "python"
    }
  },
  "cells": [
    {
      "cell_type": "markdown",
      "source": [
        "**Ejercicio 1: Sistema de riego inteligente**\n",
        "\n",
        "\n",
        "Una finca agrícola desea automatizar el proceso de riego utilizando datos de humedad del suelo y pronóstico de lluvia. Se pide desarrollar un programa que analice los niveles de humedad diaria de una semana (expresados en porcentaje) y determine si es necesario activar el sistema de riego cada día. Para ello, el sistema debe considerar un umbral de humedad óptima y un margen de seguridad definidos como constantes, y evitar regar si se pronostica lluvia. El programa deberá recorrer los siete días de la semana con un bucle, aplicar condicionales para decidir cuándo regar y mostrar un resumen final con el número total de riegos realizados y el ahorro de agua estimado."
      ],
      "metadata": {
        "id": "ebEimiIaN9vX"
      }
    },
    {
      "cell_type": "code",
      "source": [
        "UMBRAL_HUMEDAD =50\n",
        "MARGEN =5\n",
        "\n",
        "humedades =[40,50,60,70,80,15,23,56]\n",
        "pronosticos_lluvia= [False,True,False,True,False,False,True]\n",
        "dias_semana=[\"lunes\",\"martes\",\"miercoles\",\"jueves\",\"viernes\",\"sabado\",\"domingo\"]\n",
        "\n",
        "riegos_realizados =0\n",
        "ahorro_agua =0\n",
        " #bucle\n",
        "for dia,humedad,lluvia in zip(dias_semana,humedades,pronosticos_lluvia):\n",
        "  print(f\"\\n{dia}:\")\n",
        "  if lluvia:\n",
        "    print(f\"pronostico de lluvia\")\n",
        "    ahorro_agua =+1\n",
        "  elif humedad < (UMBRAL_HUMEDAD -MARGEN):\n",
        "    print(f\"humedad baja {humedad}%\")\n",
        "    riegos_realizados =+1\n",
        "  else:\n",
        "    print(f\"humedad suficiente\")\n",
        "\n",
        "\n"
      ],
      "metadata": {
        "colab": {
          "base_uri": "https://localhost:8080/"
        },
        "id": "ONXZ4IPpOY-e",
        "outputId": "e89e9c23-9169-4071-89a0-271ce6254f8e"
      },
      "execution_count": null,
      "outputs": [
        {
          "output_type": "stream",
          "name": "stdout",
          "text": [
            "\n",
            "lunes:\n",
            "humedad baja 40%\n",
            "\n",
            "martes:\n",
            "pronostico de lluvia\n",
            "\n",
            "miercoles:\n",
            "humedad suficiente\n",
            "\n",
            "jueves:\n",
            "pronostico de lluvia\n",
            "\n",
            "viernes:\n",
            "humedad suficiente\n",
            "\n",
            "sabado:\n",
            "humedad baja 15%\n",
            "\n",
            "domingo:\n",
            "pronostico de lluvia\n"
          ]
        }
      ]
    },
    {
      "cell_type": "markdown",
      "source": [
        "**Ejercicio 2: Clasificación de calidad de cosecha**\n",
        "\n",
        "\n",
        "Una cooperativa frutícola necesita clasificar sus lotes de frutas según la calidad, en base al peso promedio y al porcentaje de piezas defectuosas. Se requiere crear un programa que, para varios lotes ingresados por el usuario, calcule el peso promedio de una muestra y determine el porcentaje de defectos. En función de estos valores, el sistema debe asignar una categoría: “A” para productos de alta calidad, “B” para calidad media y “Rechazo” para los que no cumplen los estándares. El programa debe usar funciones para los cálculos, bucles para procesar varios lotes y condicionales para establecer la categoría final, mostrando un reporte con los resultados.\n",
        "\n"
      ],
      "metadata": {
        "id": "vvdZbbjaY8vd"
      }
    },
    {
      "cell_type": "code",
      "source": [
        "def calcular_peso_promedio(pesos):\n",
        "  return sum(pesos)/len(pesos)\n",
        "\n",
        "def calcular_defectos(defectuosas,total):\n",
        "  return(defectuosas / total) *100\n",
        "\n",
        "def clasificar_lote(peso_promedio,porcentaje_defectos):\n",
        "  if peso_promedio >180 and porcentaje_defectos <5:\n",
        "   return \"a\"\n",
        "  elif peso_promedio >100 and porcentaje_defectos < 10:\n",
        "    return \"b\"\n",
        "  else:\n",
        "    return \"rechazo\"\n",
        "\n",
        "lotes =[]\n",
        "cantidad = int(input(\"cuantos lotes deseas analizar\"))\n",
        "for i in range(cantidad):\n",
        "  print(f\"\\nlote {i+1}:\")\n",
        "  total =int(input(\"cuantas frutas hay en la muestra\"))\n",
        "\n",
        "  pesos =[]\n",
        "  for frutas in range(total):\n",
        "    peso =float(input(f\"ingrese el peso de la fruta:\"))\n",
        "    pesos.append(peso\n",
        "                 )\n",
        "  defectuosas = int(input(\"cuantas frutas son defectuosas:\"))\n",
        "  promedio=calcular_peso_promedio(pesos)\n",
        "  porcentaje=calcular_defectos(defectuosas,total)\n",
        "  categoria=clasificar_lote(promedio,porcentaje,)\n",
        "\n",
        "  lote_info =(promedio,porcentaje, categoria) # Added categoria to lote_info\n",
        "  lotes.append(lote_info)\n",
        "\n",
        "print(\"\\n ---Reporte final---\")\n",
        "for i, lote in enumerate(lotes): # Added the missing colon\n",
        "  print(f\"lote {i+1}:peso promedio ={lote[0]:.2f}g | Defectos ={lote[1]:.1f}% categoria ={lote[2]}\") # Fixed formatting and added categoria"
      ],
      "metadata": {
        "colab": {
          "base_uri": "https://localhost:8080/"
        },
        "id": "_muj8edDavIE",
        "outputId": "47fe404f-4119-4a7f-fccb-41f3ff8de7c2"
      },
      "execution_count": null,
      "outputs": [
        {
          "output_type": "stream",
          "name": "stdout",
          "text": [
            "cuantos lotes deseas analizar1\n",
            "\n",
            "lote 1:\n",
            "cuantas frutas hay en la muestra1\n",
            "ingrese el peso de la fruta:2\n",
            "cuantas frutas son defectuosas:2\n",
            "\n",
            " ---Reporte final---\n",
            "lote 1:peso promedio =2.00g | Defectos =200.0% categoria =rechazo\n"
          ]
        }
      ]
    },
    {
      "cell_type": "markdown",
      "source": [
        "**Ejercicio 3: Planificación de rotación de cultivos**\n",
        "\n",
        "\n",
        "Un ingeniero agrónomo busca diseñar una herramienta que ayude a planificar la rotación de cultivos durante el año y calcular el consumo total de nitrógeno (N) en el suelo. El programa deberá recibir una lista con los cultivos sembrados cada mes (por ejemplo, maíz, soya, trigo o descanso) y usar constantes que indiquen el consumo mensual de nitrógeno por cultivo. Mediante funciones, el sistema debe sumar el consumo total de N y verificar si existen más de tres meses consecutivos del mismo cultivo, recomendando alternar con un cultivo diferente o un período de descanso."
      ],
      "metadata": {
        "id": "4RNGoNE4XRGD"
      }
    },
    {
      "cell_type": "code",
      "source": [
        "CONSUMO_N ={\n",
        "    \"maiz\": 30,\n",
        "    \"papa\":20,\n",
        "    \"trigo\":30,\n",
        "    \"descanso\":0\n",
        "\n",
        "}\n",
        "def calcular_consumo_total(cultivos):\n",
        "  total = 0\n",
        "  for cultivo in cultivos:\n",
        "      total +=CONSUMO_N.get(cultivo,0)\n",
        "  return total\n",
        "def verificar_rotaciones(cultivos):\n",
        "    consecutivos = 1\n",
        "    for i in range(1, len(cultivos)):\n",
        "      if cultivos[i] == cultivos[i-1]:\n",
        "        consecutivos += 1\n",
        "      else:\n",
        "        consecutivos = 1\n",
        "      if consecutivos > 3:\n",
        "        return f\"Hay mas de 3 meses consecutivos de {cultivos[i-1]} se reomienda rotar o descansar\"\n",
        "\n",
        "    return \"la rotacion de cultivos es adecuada\"\n",
        "\n",
        "cultivos_anuales =[\n",
        "  \"maiz\",\"papa\",\"trigo\",\"maiz\",\"maiz\",\"maiz\",\"maiz\",\"descanso\",\"maiz\",\"papa\",\"trigo\",\"descanso\"\n",
        "\n",
        "]\n",
        "consumo_total = calcular_consumo_total(cultivos_anuales)\n",
        "\n",
        "print(\"cultivos del año:\", cultivos_anuales)\n",
        "print(\"consumo total de Nitrogeno:\", consumo_total,\"kg\")\n",
        "print(verificar_rotaciones(cultivos_anuales))"
      ],
      "metadata": {
        "id": "H8M3iw0es8IZ",
        "colab": {
          "base_uri": "https://localhost:8080/"
        },
        "outputId": "f360d179-8767-46b0-d7c1-57fc754f1256"
      },
      "execution_count": 17,
      "outputs": [
        {
          "output_type": "stream",
          "name": "stdout",
          "text": [
            "cultivos del año: ['maiz', 'papa', 'trigo', 'maiz', 'maiz', 'maiz', 'maiz', 'descanso', 'maiz', 'papa', 'trigo', 'descanso']\n",
            "consumo total de Nitrogeno: 280 kg\n",
            "Hay mas de 3 meses consecutivos de maiz se reomienda rotar o descansar\n"
          ]
        }
      ]
    },
    {
      "cell_type": "markdown",
      "source": [
        "**Ejercicio 4: Control de inventario de un software agrícola**\n",
        "\n",
        "\n",
        "Una empresa que desarrolla software para el agro necesita un módulo que controle el inventario de insumos (fertilizantes, semillas, pesticidas). El programa debe permitir registrar la cantidad inicial de cada producto y simular la salida de unidades según las ventas semanales. Con el uso de bucles y condicionales, el sistema debe actualizar los valores y emitir una alerta cuando algún producto quede por debajo de un nivel mínimo definido como constante. Además, se debe incluir una función que calcule el valor total del inventario restante y muestre un reporte con el stock actualizado."
      ],
      "metadata": {
        "id": "3o2XnhTs2q-z"
      }
    },
    {
      "cell_type": "code",
      "source": [
        "NIVEL_MINIMO =10\n",
        "inventario = {\n",
        "    \"fertilizante\":{\"cantidad\":50,\"precio\":25000},\n",
        "    \"semillas\":{\"cantidad\":25,\"precio\":24000},\n",
        "    \"pesticidad\":{\"cantidad\":34,\"precio\":12000}\n",
        "}\n",
        "def calcular_valor_total(inventario):\n",
        "  total = 0\n",
        "  for producto, datos in inventario.items():\n",
        "    total += datos[\"cantidad\"] * datos[\"precio\"]\n",
        "  return total\n",
        "\n",
        "for producto in inventario:\n",
        "  print(f\"\\nProducto:{producto}\")\n",
        "  salida =int(input(f\"ingrese cantidad vendida:\"))\n",
        "  inventario[producto][\"cantidad\"] -=salida\n",
        "  if inventario[producto][\"cantidad\"] <NIVEL_MINIMO:\n",
        "    print(\"Alerta:el stock esta por debajo del nivel minimo\")\n",
        "\n",
        "valor_total = calcular_valor_total(inventario) # Calculate valor_total after the loop\n",
        "\n",
        "print(\"\\n---Reporte final---\")\n",
        "for producto,datos in inventario.items():\n",
        "  print(f\"{producto.capitalize()}:{datos ['cantidad']}unidades restantes\")\n",
        "\n",
        "print(f\"valor total de inventario:{valor_total}\") # Print valor_total after the loop"
      ],
      "metadata": {
        "id": "ArRpqwZR3HNd",
        "colab": {
          "base_uri": "https://localhost:8080/"
        },
        "outputId": "7cd82ea0-e8a1-4d1e-eb29-46cbeeb7127c"
      },
      "execution_count": 16,
      "outputs": [
        {
          "output_type": "stream",
          "name": "stdout",
          "text": [
            "\n",
            "Producto:fertilizante\n",
            "ingrese cantidad vendida:1\n",
            "\n",
            "Producto:semillas\n",
            "ingrese cantidad vendida:2\n",
            "\n",
            "Producto:pesticidad\n",
            "ingrese cantidad vendida:2\n",
            "\n",
            "---Reporte final---\n",
            "Fertilizante:49unidades restantes\n",
            "Semillas:23unidades restantes\n",
            "Pesticidad:32unidades restantes\n",
            "valor total de inventario:2161000\n"
          ]
        }
      ]
    },
    {
      "cell_type": "markdown",
      "source": [
        "**Ejercicio 5: Evaluación de desempeño de maquinaria**\n",
        "\n",
        "\n",
        "Una cooperativa agrícola quiere medir el rendimiento de sus tractores en campo. Crea un programa que permita ingresar los datos de varios tractores: horas trabajadas, litros de combustible consumidos y superficie cubierta. El programa debe calcular el rendimiento por hora y el consumo de combustible por hectárea. Mediante condicionales, debe clasificar el desempeño como “Excelente”, “Aceptable” o “Deficiente”, según los valores obtenidos. Usa funciones para los cálculos, bucles para procesar varios tractores y constantes para los límites de clasificación. Finalmente, muestra un informe con los resultados de cada máquina."
      ],
      "metadata": {
        "id": "z4mK77kxa0YQ"
      }
    },
    {
      "cell_type": "code",
      "source": [
        "EXCELENTE =5.0\n",
        "ACEPTABLE= 3.0\n",
        "DEFICIENTE=2.5\n",
        "def calcular_rendimiento(superficie,horas):\n",
        "  return superficie/horas\n",
        "def calcular_consumo(combustible,superficie):\n",
        "  return combustible/superficie\n",
        "def clasificar_desempeno(rendimiento):\n",
        "  if rendimiento >= EXCELENTE:\n",
        "    return \"Excelente\"\n",
        "  elif rendimiento >=ACEPTABLE:\n",
        "    return \"Aceptable\"\n",
        "  else:\n",
        "    return \"Deficiente\"\n",
        "tractores = int(input(\"cuantos tractores deseas analizar\"))\n",
        "for i in range(tractores):\n",
        "    print(f\"\\ntractor {i+1}:\")\n",
        "    horas =float(input(\"ingrese horas trabajadas\"))\n",
        "    combustible =float(input(\"ingrese litros de combustible consumidos\"))\n",
        "    superficie =float(input(\"ingrese superficie cubierta (hectareas):\"))\n",
        "\n",
        "    rendimiento = calcular_rendimiento(superficie,horas)\n",
        "    consumo = calcular_consumo(combustible,superficie)\n",
        "    clasificacion = clasificar_desempeno(rendimiento)\n",
        "\n",
        "    print(f\"rendimiento por hora: {rendimiento:.2f}\")\n",
        "    print(f\"consumo por hectarea: {consumo:.2f}\")\n",
        "    print(f\"clasificacion: {clasificacion}\")\n"
      ],
      "metadata": {
        "colab": {
          "base_uri": "https://localhost:8080/"
        },
        "id": "RK1gW-S5a9A6",
        "outputId": "5fd71a57-be8c-49da-ecc3-c3a3cb74d61d"
      },
      "execution_count": 4,
      "outputs": [
        {
          "output_type": "stream",
          "name": "stdout",
          "text": [
            "cuantos tractores deseas analizar1\n",
            "\n",
            "tractor 1:\n",
            "ingrese horas trabajadas2\n",
            "ingrese litros de combustible consumidos2\n",
            "ingrese superficie cubierta (hectareas):2\n",
            "rendimiento por hora: 1.00\n",
            "consumo por hectarea: 1.00\n",
            "clasificacion: Deficiente\n"
          ]
        }
      ]
    },
    {
      "cell_type": "markdown",
      "source": [
        "**Ejercicio 6**\n",
        "\n",
        " Gestión de energía en un edificio inteligente\n",
        "Un edificio moderno cuenta con sensores que registran el consumo energético diario (en kWh) de tres áreas: oficinas, pasillos y estacionamiento.\n",
        "Crea un programa que:\n",
        "\n",
        "Lea los consumos diarios de una semana para cada área.\n",
        "\n",
        "Calcule el promedio semanal por área y el total general.\n",
        "\n",
        "Detecte el día de mayor consumo global y recomiende medidas de ahorro si el promedio total supera un umbral definido como constante.\n",
        "El programa debe usar listas anidadas, bucles y funciones para los cálculos, y generar un reporte con todos los resultados."
      ],
      "metadata": {
        "id": "OawHf1Q6ha52"
      }
    },
    {
      "cell_type": "code",
      "source": [
        "UMBRAL =500\n",
        "areas=[\"oficinas\",\"pasillos\",\"estacionamiento\"]\n",
        "consumos =[]\n",
        "def calcular_promedio(lista):\n",
        "  return sum(lista)/len(lista)\n",
        "for area in areas:\n",
        "  print(f\"\\nIngrese los consumos de {area}:\")\n",
        "  area_consumos =[]\n",
        "  for dia in range(7):\n",
        "    consumo =float(input(f\"dia {dia+1}:\"))\n",
        "    area_consumos.append(consumo)\n",
        "  consumos.append(area_consumos)\n",
        "\n",
        "promedios =[]\n",
        "for i in range(len(areas)):\n",
        "  prom=calcular_promedio(consumos[i])\n",
        "  promedios.append(prom)\n",
        "\n",
        "totales_dia =[]\n",
        "for dia in range(7):\n",
        "  daily_total = consumos[0][dia] + consumos[1][dia] + consumos[2][dia]\n",
        "  totales_dia.append(daily_total)\n",
        "\n",
        "mayor_consumo = max(totales_dia)\n",
        "dia_mayor =totales_dia.index(mayor_consumo) +1\n",
        "promedio_general = calcular_promedio(totales_dia)\n",
        "\n",
        "print(\"\\n---Reporte final---\")\n",
        "for i, area in enumerate(areas):\n",
        "    print(f\"Promedio semanal {area}: {promedios[i]:.2f} kWh\")\n",
        "\n",
        "print(f\"Consumo total por dia: {totales_dia}\")\n",
        "print(f\"Dia de mayor consumo global: Dia {dia_mayor} ({mayor_consumo:.2f} kWh)\")\n",
        "print(f\"Promedio general semanal: {promedio_general:.2f} kWh\")\n",
        "\n",
        "if promedio_general > UMBRAL:\n",
        "  print(\"Recomendacion: El promedio de consumo supera el umbral. Considere medidas de ahorro de energía.\")"
      ],
      "metadata": {
        "colab": {
          "base_uri": "https://localhost:8080/"
        },
        "id": "gSzNoM7Qh3hL",
        "outputId": "2ea65b42-917b-479d-a798-188b2d25a7e4"
      },
      "execution_count": 48,
      "outputs": [
        {
          "output_type": "stream",
          "name": "stdout",
          "text": [
            "\n",
            "Ingrese los consumos de oficinas:\n",
            "dia 1:1\n",
            "dia 2:2\n",
            "dia 3:2\n",
            "dia 4:3\n",
            "dia 5:3\n",
            "dia 6:3\n",
            "dia 7:2\n",
            "\n",
            "Ingrese los consumos de pasillos:\n",
            "dia 1:2\n",
            "dia 2:2\n",
            "dia 3:2\n",
            "dia 4:2\n",
            "dia 5:2\n",
            "dia 6:2\n",
            "dia 7:2\n",
            "\n",
            "Ingrese los consumos de estacionamiento:\n",
            "dia 1:2\n",
            "dia 2:3\n",
            "dia 3:5\n",
            "dia 4:5\n",
            "dia 5:5\n",
            "dia 6:6\n",
            "dia 7:6\n",
            "\n",
            "---Reporte final---\n",
            "Promedio semanal oficinas: 2.29 kWh\n",
            "Promedio semanal pasillos: 2.00 kWh\n",
            "Promedio semanal estacionamiento: 4.57 kWh\n",
            "Consumo total por dia: [5.0, 7.0, 9.0, 10.0, 10.0, 11.0, 10.0]\n",
            "Dia de mayor consumo global: Dia 6 (11.00 kWh)\n",
            "Promedio general semanal: 8.86 kWh\n"
          ]
        }
      ]
    },
    {
      "cell_type": "markdown",
      "source": [
        " **Ejercicio 7: Sistema de recomendación de películas personalizadas**\n",
        "\n",
        "\n",
        "Diseña un programa que ayude a recomendar películas a los usuarios de una plataforma de streaming.\n",
        "Cada usuario ingresa su edad, género favorito y las calificaciones que ha dado a sus últimas películas vistas.\n",
        "El sistema debe:\n",
        "\n",
        "Calcular el promedio de calificaciones del usuario.\n",
        "\n",
        "Recomendar un tipo de película según su edad y gustos (usando condicionales anidados).\n",
        "\n",
        "Ajustar la recomendación si el promedio de calificaciones es bajo, sugiriendo géneros alternativos.\n",
        "Debe usarse una función para generar la recomendación y un bucle para procesar varios usuarios.\n"
      ],
      "metadata": {
        "id": "vexWQFccy6h6"
      }
    },
    {
      "cell_type": "code",
      "source": [
        "def recomendar_pelicula(edad, genero, calificaciones):\n",
        "    promedio = sum(calificaciones) / len(calificaciones)\n",
        "\n",
        "    # Recomendación según edad y género\n",
        "    if edad < 13:\n",
        "        recomendacion = \"Películas animadas o familiares\"\n",
        "    elif edad < 18:\n",
        "        recomendacion = \"Películas juveniles o de acción\"\n",
        "    else:\n",
        "        recomendacion = \"Películas de drama o suspenso\"\n",
        "\n",
        "    # Ajuste si el promedio es bajo\n",
        "    if promedio < 3:\n",
        "        recomendacion = \"Prueba otro género, puede que te guste más\"\n",
        "\n",
        "    return promedio, recomendacion\n",
        "\n",
        "\n",
        "# Bucle para varios usuarios\n",
        "while True:\n",
        "    edad = int(input(\"Edad: \"))\n",
        "    genero = input(\"Género favorito: \")\n",
        "    calificaciones = [\n",
        "        float(input(\"Calificación 1: \")),\n",
        "        float(input(\"Calificación 2: \")),\n",
        "        float(input(\"Calificación 3: \"))\n",
        "    ]\n",
        "\n",
        "    promedio, recomendacion = recomendar_pelicula(edad, genero, calificaciones)\n",
        "\n",
        "    print(f\"\\nPromedio: {promedio:.2f}\")\n",
        "    print(\"Recomendación:\", recomendacion)\n",
        "\n",
        "    if input(\"\\n¿Otro usuario? (s/n): \").lower() != \"s\":\n",
        "        break\n",
        "\n",
        "\n",
        ""
      ],
      "metadata": {
        "colab": {
          "base_uri": "https://localhost:8080/"
        },
        "id": "h6KoF257Rq4f",
        "outputId": "e0a33696-c3c1-442c-b104-fa92dcffcb3b"
      },
      "execution_count": 6,
      "outputs": [
        {
          "name": "stdout",
          "output_type": "stream",
          "text": [
            "Edad: 12\n",
            "Género favorito: terror\n",
            "Calificación 1: 5.0\n",
            "Calificación 2: 3.0\n",
            "Calificación 3: 3.0\n",
            "\n",
            "Promedio: 3.67\n",
            "Recomendación: Películas animadas o familiares\n",
            "\n",
            "¿Otro usuario? (s/n): s\n",
            "Edad: 112\n",
            "Género favorito: comedia\n",
            "Calificación 1: 2.0\n",
            "Calificación 2: 23\n",
            "Calificación 3: 2.4\n",
            "\n",
            "Promedio: 9.13\n",
            "Recomendación: Películas de drama o suspenso\n",
            "\n",
            "¿Otro usuario? (s/n): n\n"
          ]
        }
      ]
    },
    {
      "cell_type": "markdown",
      "source": [
        "**Una empresa de mensajería quiere optimizar sus rutas diarias.**\n",
        "\n",
        "\n",
        "Crea un programa que reciba las distancias (en km) y los tiempos estimados (en minutos) de varios trayectos.\n",
        "El sistema debe:\n",
        "\n",
        "Calcular la velocidad promedio de cada trayecto.\n",
        "\n",
        "Determinar cuál es la ruta más eficiente (mayor velocidad promedio con menor distancia).\n",
        "\n",
        "Calcular el tiempo total del recorrido completo.\n",
        "Usa funciones para los cálculos, bucles para recorrer las rutas y condicionales para la selección de la mejor opción, mostrando un informe final con las métricas."
      ],
      "metadata": {
        "id": "vVvFftF9swHa"
      }
    },
    {
      "cell_type": "code",
      "source": [
        "def calcular_velocidad(distancia,tiempo_minutos):\n",
        "  tiempo_horas = tiempo_minutos /60\n",
        "  return distancia / tiempo_horas\n",
        "trayectos =[]\n",
        "\n",
        "cantidad_trayectos = int(input(\"cuantos trayectos deseas analizar\"))\n",
        "for i in range(cantidad_trayectos):\n",
        "  print(f\"\\ntrayecto {i+1}:\")\n",
        "  distancia = float(input(\"ingrese la distancia en km:\"))\n",
        "  tiempo= float(input(\"ingrese el tiempo estimado en minutos:\"))\n",
        "  velocidad = calcular_velocidad(distancia,tiempo)\n",
        "  trayectos.append({\"distancia\":distancia,\"tiempo\":tiempo,\"velocidad\":velocidad})\n",
        "  ruta_eficiente = trayectos[0]\n",
        "for trayecto in trayectos[1:]:\n",
        "    if (trayecto[\"velocidad\"] > ruta_eficiente[\"velocidad\"]) or \\\n",
        "       (trayecto[\"velocidad\"] == ruta_eficiente[\"velocidad\"] and trayecto[\"distancia\"] < ruta_eficiente[\"distancia\"]):\n",
        "        ruta_eficiente = trayecto\n",
        "\n",
        "# Calcular tiempo total\n",
        "tiempo_total = sum(t[\"tiempo\"] for t in trayectos)\n",
        "\n",
        "# Mostrar informe\n",
        "print(\"\\n--- Informe de trayectos ---\")\n",
        "for i, t in enumerate(trayectos):\n",
        "    print(f\"Trayecto {i+1}: Distancia = {t['distancia']} km, Tiempo = {t['tiempo']} min, Velocidad = {t['velocidad']:.2f} km/h\")\n",
        "\n",
        "print(f\"\\nRuta más eficiente: Distancia = {ruta_eficiente['distancia']} km, Velocidad = {ruta_eficiente['velocidad']:.2f} km/h\")\n",
        "print(f\"Tiempo total del recorrido: {tiempo_total} minutos\")\n"
      ],
      "metadata": {
        "colab": {
          "base_uri": "https://localhost:8080/"
        },
        "id": "BKjjC5sFtTsX",
        "outputId": "8408ea53-cabb-4d49-a7e4-a9239f83df8e"
      },
      "execution_count": 9,
      "outputs": [
        {
          "output_type": "stream",
          "name": "stdout",
          "text": [
            "cuantos trayectos deseas analizar1\n",
            "\n",
            "trayecto 1:\n",
            "ingrese la distancia en km:2\n",
            "ingrese el tiempo estimado en minutos:3\n",
            "\n",
            "--- Informe de trayectos ---\n",
            "Trayecto 1: Distancia = 2.0 km, Tiempo = 3.0 min, Velocidad = 40.00 km/h\n",
            "\n",
            "Ruta más eficiente: Distancia = 2.0 km, Velocidad = 40.00 km/h\n",
            "Tiempo total del recorrido: 3.0 minutos\n"
          ]
        }
      ]
    }
  ]
}